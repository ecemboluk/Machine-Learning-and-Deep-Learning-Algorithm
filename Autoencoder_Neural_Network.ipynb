{
  "nbformat": 4,
  "nbformat_minor": 0,
  "metadata": {
    "colab": {
      "name": "Autoencoder Neural Network.ipynb",
      "provenance": [],
      "authorship_tag": "ABX9TyOYeCuTU8oNJvzWCUs63ltb",
      "include_colab_link": true
    },
    "kernelspec": {
      "name": "python3",
      "display_name": "Python 3"
    }
  },
  "cells": [
    {
      "cell_type": "markdown",
      "metadata": {
        "id": "view-in-github",
        "colab_type": "text"
      },
      "source": [
        "<a href=\"https://colab.research.google.com/github/ecemboluk/Machine-Learning-and-Deep-Learning-Worksheets/blob/master/Autoencoder_Neural_Network.ipynb\" target=\"_parent\"><img src=\"https://colab.research.google.com/assets/colab-badge.svg\" alt=\"Open In Colab\"/></a>"
      ]
    },
    {
      "cell_type": "markdown",
      "metadata": {
        "id": "73zPtEigbZYE"
      },
      "source": [
        "# **Autoencoder Neural Network**\n",
        "\n",
        "Otomatik Kodlayıcılar olarak Türkçe'ye çevrilebileceğimiz Autoencoder ağları, özellik çıkarımında ve gürültülü veri içerisinden orjinal verileri çıkarmada oldukça başarılı bir unsupervised learning modelidir. Bilgisayarda görü ve öneri sistemlerinde oldukça popüler olarak kullanılmaktadır. \n",
        "\n",
        "## **Autoencoder'lar Nasıl Çalışır?**\n",
        "\n",
        "Autoencoder'lar giriş verişini çıkış verisine kopyalayan ağlardır. Giriş katmanındaki nöron sayısı ile giriş verisinin boyutu/sayısı aynı olmalıdır. Giriş verisi çıkış verisine kopyalandığı için çıkış katmanındaki nöron sayısı ile giriş katmanındaki nöron sayısı eşit olmalıdır. \n",
        "\n",
        "Autoencoder'lar giriş, çıkış ve gizli katman olmak üzere 3 katmandan oluşur. Gizli katman özellik çıkarımı görevindedir. Giriş katmanından gelen veri encoder yapılarak özellikler çıkarılır ve daha sonra decoder yapılarak veri tekrar oluşturulur. Özelliklerin doğru çıkarılması için input size >= hidden layer size olmalıdır.\n",
        "\n",
        "Autoencoder'lar özellikle çıkarımı dışında gürültülü veriyi orjinal veriye çevirir. Gizli katmanında gürültüyü öğrenerek orjinal verinin başarılı olarak oluşturulmasını sağlar. \n",
        "\n",
        "<img src = \"https://www.jeremyjordan.me/content/images/2018/03/Screen-Shot-2018-03-06-at-3.17.13-PM.png\" />\n",
        "\n",
        "Şimdi Fashion MNIST veri seti ile bu konuyu biraz pekiştirelim.\n",
        "\n",
        "\n",
        "\n"
      ]
    },
    {
      "cell_type": "markdown",
      "metadata": {
        "id": "CXPT3QSgjidf"
      },
      "source": [
        "## **Kütüphanelerin Kurulumu**"
      ]
    },
    {
      "cell_type": "code",
      "metadata": {
        "id": "oHK8KquSbWCI"
      },
      "source": [
        "from keras.models import Model\n",
        "from keras.layers import Input, Dense\n",
        "from keras.datasets import fashion_mnist\n",
        "\n",
        "import matplotlib.pyplot as plt\n",
        "import warnings\n",
        "warnings.filterwarnings(\"ignore\")"
      ],
      "execution_count": 3,
      "outputs": []
    },
    {
      "cell_type": "markdown",
      "metadata": {
        "id": "CEfhTcggj84Z"
      },
      "source": [
        "## **Veri Setinin Yüklenmesi ve Hazırlanması**"
      ]
    },
    {
      "cell_type": "code",
      "metadata": {
        "id": "dRNDdYXFj-N6",
        "outputId": "f01deb29-273c-4dd1-e374-763e207dd550",
        "colab": {
          "base_uri": "https://localhost:8080/"
        }
      },
      "source": [
        "(x_train, _ ),(x_test, _ ) = fashion_mnist.load_data()"
      ],
      "execution_count": 4,
      "outputs": [
        {
          "output_type": "stream",
          "text": [
            "Downloading data from https://storage.googleapis.com/tensorflow/tf-keras-datasets/train-labels-idx1-ubyte.gz\n",
            "32768/29515 [=================================] - 0s 0us/step\n",
            "Downloading data from https://storage.googleapis.com/tensorflow/tf-keras-datasets/train-images-idx3-ubyte.gz\n",
            "26427392/26421880 [==============================] - 0s 0us/step\n",
            "Downloading data from https://storage.googleapis.com/tensorflow/tf-keras-datasets/t10k-labels-idx1-ubyte.gz\n",
            "8192/5148 [===============================================] - 0s 0us/step\n",
            "Downloading data from https://storage.googleapis.com/tensorflow/tf-keras-datasets/t10k-images-idx3-ubyte.gz\n",
            "4423680/4422102 [==============================] - 0s 0us/step\n"
          ],
          "name": "stdout"
        }
      ]
    },
    {
      "cell_type": "code",
      "metadata": {
        "id": "K7rybqCBki1J"
      },
      "source": [
        "x_train = x_train.astype(\"float32\") / 255.0\n",
        "x_test = x_test.astype(\"float32\") / 255.0"
      ],
      "execution_count": 5,
      "outputs": []
    },
    {
      "cell_type": "code",
      "metadata": {
        "id": "B7NHMFOTllv3"
      },
      "source": [
        "x_train = x_train.reshape((len(x_train),28*28))\n",
        "x_test = x_test.reshape((len(x_test),28*28))"
      ],
      "execution_count": 7,
      "outputs": []
    },
    {
      "cell_type": "markdown",
      "metadata": {
        "id": "bNQITGQOmpfE"
      },
      "source": [
        "## **Verinin Görselleştirilmesi**"
      ]
    },
    {
      "cell_type": "code",
      "metadata": {
        "id": "N2AqJBcqmxmi",
        "outputId": "199a4590-dd10-4f60-d722-baea42e00e78",
        "colab": {
          "base_uri": "https://localhost:8080/",
          "height": 265
        }
      },
      "source": [
        "plt.imshow(x_train[150].reshape(28,28))\n",
        "plt.axis(\"off\")"
      ],
      "execution_count": 9,
      "outputs": [
        {
          "output_type": "execute_result",
          "data": {
            "text/plain": [
              "(-0.5, 27.5, 27.5, -0.5)"
            ]
          },
          "metadata": {
            "tags": []
          },
          "execution_count": 9
        },
        {
          "output_type": "display_data",
          "data": {
            "image/png": "[encoded data removed]",
            "text/plain": [
              "<Figure size 432x288 with 1 Axes>"
            ]
          },
          "metadata": {
            "tags": [],
            "needs_background": "light"
          }
        }
      ]
    },
    {
      "cell_type": "markdown",
      "metadata": {
        "id": "mDdFe7yKoOZF"
      },
      "source": [
        "## **Autoencoder Ağının Oluşturulması**"
      ]
    },
    {
      "cell_type": "code",
      "metadata": {
        "id": "09DfR5kWoTgH",
        "outputId": "5c820b8a-24b5-497f-fd4c-7e7eb1831ea2",
        "colab": {
          "base_uri": "https://localhost:8080/"
        }
      },
      "source": [
        "input_img = Input(shape = (784,))\n",
        "encoded = Dense(32, activation=\"relu\")(input_img)\n",
        "encoded = Dense(16,activation=\"relu\")(encoded)\n",
        "decoded = Dense(32,activation=\"relu\")(encoded)\n",
        "output_img = Dense(784,activation=\"sigmoid\")(decoded)\n",
        "\n",
        "autoencoder = Model(input_img,output_img)\n",
        "autoencoder.compile(optimizer=\"rmsprop\",loss=\"binary_crossentropy\")\n",
        "\n",
        "hist = autoencoder.fit(x_train,x_train,\n",
        "                       epochs=200,batch_size=256,\n",
        "                       shuffle=True,\n",
        "                       validation_data = (x_train,x_train))"
      ],
      "execution_count": 12,
      "outputs": [
        {
          "output_type": "stream",
          "text": [
            "Epoch 1/200\n",
            "235/235 [==============================] - 3s 14ms/step - loss: 0.4037 - val_loss: 0.3477\n",
            "Epoch 2/200\n",
            "235/235 [==============================] - 3s 14ms/step - loss: 0.3341 - val_loss: 0.3296\n",
            "Epoch 3/200\n",
            "235/235 [==============================] - 3s 14ms/step - loss: 0.3238 - val_loss: 0.3190\n",
            "Epoch 4/200\n",
            "235/235 [==============================] - 3s 14ms/step - loss: 0.3187 - val_loss: 0.3165\n",
            "Epoch 5/200\n",
            "235/235 [==============================] - 3s 14ms/step - loss: 0.3151 - val_loss: 0.3133\n",
            "Epoch 6/200\n",
            "235/235 [==============================] - 3s 13ms/step - loss: 0.3124 - val_loss: 0.3116\n",
            "Epoch 7/200\n",
            "235/235 [==============================] - 3s 14ms/step - loss: 0.3103 - val_loss: 0.3113\n",
            "Epoch 8/200\n",
            "235/235 [==============================] - 3s 14ms/step - loss: 0.3087 - val_loss: 0.3066\n",
            "Epoch 9/200\n",
            "235/235 [==============================] - 3s 14ms/step - loss: 0.3073 - val_loss: 0.3061\n",
            "Epoch 10/200\n",
            "235/235 [==============================] - 3s 15ms/step - loss: 0.3062 - val_loss: 0.3051\n",
            "Epoch 11/200\n",
            "235/235 [==============================] - 3s 14ms/step - loss: 0.3051 - val_loss: 0.3089\n",
            "Epoch 12/200\n",
            "235/235 [==============================] - 3s 14ms/step - loss: 0.3042 - val_loss: 0.3035\n",
            "Epoch 13/200\n",
            "235/235 [==============================] - 3s 14ms/step - loss: 0.3030 - val_loss: 0.3034\n",
            "Epoch 14/200\n",
            "235/235 [==============================] - 3s 14ms/step - loss: 0.3020 - val_loss: 0.3015\n",
            "Epoch 15/200\n",
            "235/235 [==============================] - 3s 14ms/step - loss: 0.3011 - val_loss: 0.3014\n",
            "Epoch 16/200\n",
            "235/235 [==============================] - 3s 15ms/step - loss: 0.3004 - val_loss: 0.3023\n",
            "Epoch 17/200\n",
            "235/235 [==============================] - 3s 14ms/step - loss: 0.2997 - val_loss: 0.2994\n",
            "Epoch 18/200\n",
            "235/235 [==============================] - 3s 14ms/step - loss: 0.2990 - val_loss: 0.2983\n",
            "Epoch 19/200\n",
            "235/235 [==============================] - 3s 13ms/step - loss: 0.2984 - val_loss: 0.2992\n",
            "Epoch 20/200\n",
            "235/235 [==============================] - 3s 14ms/step - loss: 0.2979 - val_loss: 0.2997\n",
            "Epoch 21/200\n",
            "235/235 [==============================] - 3s 13ms/step - loss: 0.2975 - val_loss: 0.2975\n",
            "Epoch 22/200\n",
            "235/235 [==============================] - 3s 14ms/step - loss: 0.2970 - val_loss: 0.2967\n",
            "Epoch 23/200\n",
            "235/235 [==============================] - 3s 14ms/step - loss: 0.2967 - val_loss: 0.2966\n",
            "Epoch 24/200\n",
            "235/235 [==============================] - 3s 14ms/step - loss: 0.2963 - val_loss: 0.2966\n",
            "Epoch 25/200\n",
            "235/235 [==============================] - 3s 13ms/step - loss: 0.2960 - val_loss: 0.2956\n",
            "Epoch 26/200\n",
            "235/235 [==============================] - 3s 14ms/step - loss: 0.2958 - val_loss: 0.2956\n",
            "Epoch 27/200\n",
            "235/235 [==============================] - 3s 14ms/step - loss: 0.2955 - val_loss: 0.2957\n",
            "Epoch 28/200\n",
            "235/235 [==============================] - 3s 14ms/step - loss: 0.2952 - val_loss: 0.2951\n",
            "Epoch 29/200\n",
            "235/235 [==============================] - 3s 14ms/step - loss: 0.2950 - val_loss: 0.2959\n",
            "Epoch 30/200\n",
            "235/235 [==============================] - 3s 14ms/step - loss: 0.2947 - val_loss: 0.2968\n",
            "Epoch 31/200\n",
            "235/235 [==============================] - 3s 13ms/step - loss: 0.2946 - val_loss: 0.2938\n",
            "Epoch 32/200\n",
            "235/235 [==============================] - 3s 13ms/step - loss: 0.2943 - val_loss: 0.2949\n",
            "Epoch 33/200\n",
            "235/235 [==============================] - 3s 13ms/step - loss: 0.2941 - val_loss: 0.2938\n",
            "Epoch 34/200\n",
            "235/235 [==============================] - 3s 13ms/step - loss: 0.2939 - val_loss: 0.2935\n",
            "Epoch 35/200\n",
            "235/235 [==============================] - 3s 14ms/step - loss: 0.2937 - val_loss: 0.2944\n",
            "Epoch 36/200\n",
            "235/235 [==============================] - 3s 14ms/step - loss: 0.2936 - val_loss: 0.2939\n",
            "Epoch 37/200\n",
            "235/235 [==============================] - 3s 14ms/step - loss: 0.2934 - val_loss: 0.2937\n",
            "Epoch 38/200\n",
            "235/235 [==============================] - 3s 14ms/step - loss: 0.2932 - val_loss: 0.2928\n",
            "Epoch 39/200\n",
            "235/235 [==============================] - 3s 14ms/step - loss: 0.2931 - val_loss: 0.2930\n",
            "Epoch 40/200\n",
            "235/235 [==============================] - 3s 13ms/step - loss: 0.2929 - val_loss: 0.2924\n",
            "Epoch 41/200\n",
            "235/235 [==============================] - 3s 14ms/step - loss: 0.2928 - val_loss: 0.2928\n",
            "Epoch 42/200\n",
            "235/235 [==============================] - 3s 14ms/step - loss: 0.2926 - val_loss: 0.2922\n",
            "Epoch 43/200\n",
            "235/235 [==============================] - 3s 14ms/step - loss: 0.2925 - val_loss: 0.2930\n",
            "Epoch 44/200\n",
            "235/235 [==============================] - 3s 14ms/step - loss: 0.2924 - val_loss: 0.2927\n",
            "Epoch 45/200\n",
            "235/235 [==============================] - 3s 14ms/step - loss: 0.2923 - val_loss: 0.2924\n",
            "Epoch 46/200\n",
            "235/235 [==============================] - 3s 14ms/step - loss: 0.2922 - val_loss: 0.2916\n",
            "Epoch 47/200\n",
            "235/235 [==============================] - 3s 14ms/step - loss: 0.2921 - val_loss: 0.2920\n",
            "Epoch 48/200\n",
            "235/235 [==============================] - 3s 14ms/step - loss: 0.2920 - val_loss: 0.2914\n",
            "Epoch 49/200\n",
            "235/235 [==============================] - 3s 14ms/step - loss: 0.2919 - val_loss: 0.2911\n",
            "Epoch 50/200\n",
            "235/235 [==============================] - 3s 14ms/step - loss: 0.2918 - val_loss: 0.2915\n",
            "Epoch 51/200\n",
            "235/235 [==============================] - 3s 14ms/step - loss: 0.2917 - val_loss: 0.2908\n",
            "Epoch 52/200\n",
            "235/235 [==============================] - 3s 14ms/step - loss: 0.2916 - val_loss: 0.2920\n",
            "Epoch 53/200\n",
            "235/235 [==============================] - 3s 14ms/step - loss: 0.2915 - val_loss: 0.2919\n",
            "Epoch 54/200\n",
            "235/235 [==============================] - 3s 14ms/step - loss: 0.2914 - val_loss: 0.2922\n",
            "Epoch 55/200\n",
            "235/235 [==============================] - 3s 14ms/step - loss: 0.2913 - val_loss: 0.2916\n",
            "Epoch 56/200\n",
            "235/235 [==============================] - 3s 14ms/step - loss: 0.2913 - val_loss: 0.2912\n",
            "Epoch 57/200\n",
            "235/235 [==============================] - 3s 14ms/step - loss: 0.2912 - val_loss: 0.2917\n",
            "Epoch 58/200\n",
            "235/235 [==============================] - 3s 13ms/step - loss: 0.2911 - val_loss: 0.2910\n",
            "Epoch 59/200\n",
            "235/235 [==============================] - 3s 13ms/step - loss: 0.2910 - val_loss: 0.2910\n",
            "Epoch 60/200\n",
            "235/235 [==============================] - 3s 13ms/step - loss: 0.2910 - val_loss: 0.2911\n",
            "Epoch 61/200\n",
            "235/235 [==============================] - 3s 14ms/step - loss: 0.2909 - val_loss: 0.2908\n",
            "Epoch 62/200\n",
            "235/235 [==============================] - 3s 13ms/step - loss: 0.2908 - val_loss: 0.2909\n",
            "Epoch 63/200\n",
            "235/235 [==============================] - 3s 14ms/step - loss: 0.2908 - val_loss: 0.2905\n",
            "Epoch 64/200\n",
            "235/235 [==============================] - 3s 14ms/step - loss: 0.2907 - val_loss: 0.2902\n",
            "Epoch 65/200\n",
            "235/235 [==============================] - 3s 14ms/step - loss: 0.2906 - val_loss: 0.2907\n",
            "Epoch 66/200\n",
            "235/235 [==============================] - 3s 14ms/step - loss: 0.2906 - val_loss: 0.2901\n",
            "Epoch 67/200\n",
            "235/235 [==============================] - 3s 14ms/step - loss: 0.2905 - val_loss: 0.2903\n",
            "Epoch 68/200\n",
            "235/235 [==============================] - 3s 13ms/step - loss: 0.2905 - val_loss: 0.2908\n",
            "Epoch 69/200\n",
            "235/235 [==============================] - 3s 14ms/step - loss: 0.2904 - val_loss: 0.2896\n",
            "Epoch 70/200\n",
            "235/235 [==============================] - 3s 14ms/step - loss: 0.2903 - val_loss: 0.2901\n",
            "Epoch 71/200\n",
            "235/235 [==============================] - 3s 14ms/step - loss: 0.2903 - val_loss: 0.2911\n",
            "Epoch 72/200\n",
            "235/235 [==============================] - 3s 14ms/step - loss: 0.2903 - val_loss: 0.2901\n",
            "Epoch 73/200\n",
            "235/235 [==============================] - 3s 13ms/step - loss: 0.2902 - val_loss: 0.2899\n",
            "Epoch 74/200\n",
            "235/235 [==============================] - 3s 14ms/step - loss: 0.2902 - val_loss: 0.2912\n",
            "Epoch 75/200\n",
            "235/235 [==============================] - 3s 14ms/step - loss: 0.2901 - val_loss: 0.2899\n",
            "Epoch 76/200\n",
            "235/235 [==============================] - 3s 14ms/step - loss: 0.2901 - val_loss: 0.2899\n",
            "Epoch 77/200\n",
            "235/235 [==============================] - 3s 14ms/step - loss: 0.2900 - val_loss: 0.2900\n",
            "Epoch 78/200\n",
            "235/235 [==============================] - 3s 14ms/step - loss: 0.2900 - val_loss: 0.2900\n",
            "Epoch 79/200\n",
            "235/235 [==============================] - 3s 13ms/step - loss: 0.2899 - val_loss: 0.2896\n",
            "Epoch 80/200\n",
            "235/235 [==============================] - 3s 13ms/step - loss: 0.2899 - val_loss: 0.2903\n",
            "Epoch 81/200\n",
            "235/235 [==============================] - 3s 13ms/step - loss: 0.2898 - val_loss: 0.2898\n",
            "Epoch 82/200\n",
            "235/235 [==============================] - 3s 14ms/step - loss: 0.2898 - val_loss: 0.2901\n",
            "Epoch 83/200\n",
            "235/235 [==============================] - 3s 14ms/step - loss: 0.2898 - val_loss: 0.2899\n",
            "Epoch 84/200\n",
            "235/235 [==============================] - 3s 14ms/step - loss: 0.2897 - val_loss: 0.2898\n",
            "Epoch 85/200\n",
            "235/235 [==============================] - 3s 14ms/step - loss: 0.2897 - val_loss: 0.2893\n",
            "Epoch 86/200\n",
            "235/235 [==============================] - 3s 14ms/step - loss: 0.2897 - val_loss: 0.2892\n",
            "Epoch 87/200\n",
            "235/235 [==============================] - 3s 14ms/step - loss: 0.2896 - val_loss: 0.2896\n",
            "Epoch 88/200\n",
            "235/235 [==============================] - 3s 14ms/step - loss: 0.2896 - val_loss: 0.2895\n",
            "Epoch 89/200\n",
            "235/235 [==============================] - 3s 14ms/step - loss: 0.2896 - val_loss: 0.2897\n",
            "Epoch 90/200\n",
            "235/235 [==============================] - 3s 14ms/step - loss: 0.2895 - val_loss: 0.2906\n",
            "Epoch 91/200\n",
            "235/235 [==============================] - 3s 13ms/step - loss: 0.2895 - val_loss: 0.2890\n",
            "Epoch 92/200\n",
            "235/235 [==============================] - 3s 13ms/step - loss: 0.2894 - val_loss: 0.2894\n",
            "Epoch 93/200\n",
            "235/235 [==============================] - 3s 13ms/step - loss: 0.2894 - val_loss: 0.2893\n",
            "Epoch 94/200\n",
            "235/235 [==============================] - 3s 13ms/step - loss: 0.2894 - val_loss: 0.2893\n",
            "Epoch 95/200\n",
            "235/235 [==============================] - 3s 13ms/step - loss: 0.2894 - val_loss: 0.2896\n",
            "Epoch 96/200\n",
            "235/235 [==============================] - 3s 13ms/step - loss: 0.2893 - val_loss: 0.2897\n",
            "Epoch 97/200\n",
            "235/235 [==============================] - 3s 14ms/step - loss: 0.2893 - val_loss: 0.2892\n",
            "Epoch 98/200\n",
            "235/235 [==============================] - 3s 13ms/step - loss: 0.2893 - val_loss: 0.2892\n",
            "Epoch 99/200\n",
            "235/235 [==============================] - 3s 13ms/step - loss: 0.2892 - val_loss: 0.2906\n",
            "Epoch 100/200\n",
            "235/235 [==============================] - 3s 13ms/step - loss: 0.2892 - val_loss: 0.2900\n",
            "Epoch 101/200\n",
            "235/235 [==============================] - 3s 14ms/step - loss: 0.2892 - val_loss: 0.2887\n",
            "Epoch 102/200\n",
            "235/235 [==============================] - 3s 14ms/step - loss: 0.2891 - val_loss: 0.2900\n",
            "Epoch 103/200\n",
            "235/235 [==============================] - 3s 14ms/step - loss: 0.2891 - val_loss: 0.2890\n",
            "Epoch 104/200\n",
            "235/235 [==============================] - 3s 14ms/step - loss: 0.2890 - val_loss: 0.2884\n",
            "Epoch 105/200\n",
            "235/235 [==============================] - 4s 16ms/step - loss: 0.2890 - val_loss: 0.2893\n",
            "Epoch 106/200\n",
            "235/235 [==============================] - 3s 14ms/step - loss: 0.2890 - val_loss: 0.2888\n",
            "Epoch 107/200\n",
            "235/235 [==============================] - 3s 14ms/step - loss: 0.2889 - val_loss: 0.2895\n",
            "Epoch 108/200\n",
            "235/235 [==============================] - 3s 14ms/step - loss: 0.2889 - val_loss: 0.2890\n",
            "Epoch 109/200\n",
            "235/235 [==============================] - 3s 13ms/step - loss: 0.2888 - val_loss: 0.2889\n",
            "Epoch 110/200\n",
            "235/235 [==============================] - 3s 14ms/step - loss: 0.2888 - val_loss: 0.2894\n",
            "Epoch 111/200\n",
            "235/235 [==============================] - 3s 14ms/step - loss: 0.2888 - val_loss: 0.2888\n",
            "Epoch 112/200\n",
            "235/235 [==============================] - 3s 14ms/step - loss: 0.2887 - val_loss: 0.2885\n",
            "Epoch 113/200\n",
            "235/235 [==============================] - 3s 14ms/step - loss: 0.2887 - val_loss: 0.2881\n",
            "Epoch 114/200\n",
            "235/235 [==============================] - 3s 14ms/step - loss: 0.2886 - val_loss: 0.2884\n",
            "Epoch 115/200\n",
            "235/235 [==============================] - 3s 14ms/step - loss: 0.2886 - val_loss: 0.2893\n",
            "Epoch 116/200\n",
            "235/235 [==============================] - 3s 14ms/step - loss: 0.2886 - val_loss: 0.2887\n",
            "Epoch 117/200\n",
            "235/235 [==============================] - 3s 13ms/step - loss: 0.2886 - val_loss: 0.2882\n",
            "Epoch 118/200\n",
            "235/235 [==============================] - 3s 14ms/step - loss: 0.2885 - val_loss: 0.2883\n",
            "Epoch 119/200\n",
            "235/235 [==============================] - 3s 14ms/step - loss: 0.2885 - val_loss: 0.2882\n",
            "Epoch 120/200\n",
            "235/235 [==============================] - 3s 14ms/step - loss: 0.2885 - val_loss: 0.2883\n",
            "Epoch 121/200\n",
            "235/235 [==============================] - 3s 14ms/step - loss: 0.2884 - val_loss: 0.2876\n",
            "Epoch 122/200\n",
            "235/235 [==============================] - 3s 14ms/step - loss: 0.2884 - val_loss: 0.2889\n",
            "Epoch 123/200\n",
            "235/235 [==============================] - 3s 14ms/step - loss: 0.2884 - val_loss: 0.2881\n",
            "Epoch 124/200\n",
            "235/235 [==============================] - 3s 14ms/step - loss: 0.2884 - val_loss: 0.2894\n",
            "Epoch 125/200\n",
            "235/235 [==============================] - 3s 14ms/step - loss: 0.2884 - val_loss: 0.2883\n",
            "Epoch 126/200\n",
            "235/235 [==============================] - 3s 14ms/step - loss: 0.2883 - val_loss: 0.2889\n",
            "Epoch 127/200\n",
            "235/235 [==============================] - 3s 13ms/step - loss: 0.2883 - val_loss: 0.2878\n",
            "Epoch 128/200\n",
            "235/235 [==============================] - 3s 13ms/step - loss: 0.2883 - val_loss: 0.2884\n",
            "Epoch 129/200\n",
            "235/235 [==============================] - 3s 14ms/step - loss: 0.2882 - val_loss: 0.2878\n",
            "Epoch 130/200\n",
            "235/235 [==============================] - 3s 14ms/step - loss: 0.2882 - val_loss: 0.2877\n",
            "Epoch 131/200\n",
            "235/235 [==============================] - 3s 14ms/step - loss: 0.2882 - val_loss: 0.2877\n",
            "Epoch 132/200\n",
            "235/235 [==============================] - 3s 14ms/step - loss: 0.2882 - val_loss: 0.2880\n",
            "Epoch 133/200\n",
            "235/235 [==============================] - 3s 13ms/step - loss: 0.2881 - val_loss: 0.2879\n",
            "Epoch 134/200\n",
            "235/235 [==============================] - 3s 14ms/step - loss: 0.2881 - val_loss: 0.2882\n",
            "Epoch 135/200\n",
            "235/235 [==============================] - 3s 13ms/step - loss: 0.2881 - val_loss: 0.2879\n",
            "Epoch 136/200\n",
            "235/235 [==============================] - 3s 14ms/step - loss: 0.2881 - val_loss: 0.2877\n",
            "Epoch 137/200\n",
            "235/235 [==============================] - 3s 14ms/step - loss: 0.2880 - val_loss: 0.2883\n",
            "Epoch 138/200\n",
            "235/235 [==============================] - 3s 14ms/step - loss: 0.2880 - val_loss: 0.2886\n",
            "Epoch 139/200\n",
            "235/235 [==============================] - 3s 13ms/step - loss: 0.2880 - val_loss: 0.2880\n",
            "Epoch 140/200\n",
            "235/235 [==============================] - 3s 13ms/step - loss: 0.2880 - val_loss: 0.2875\n",
            "Epoch 141/200\n",
            "235/235 [==============================] - 3s 14ms/step - loss: 0.2879 - val_loss: 0.2884\n",
            "Epoch 142/200\n",
            "235/235 [==============================] - 3s 14ms/step - loss: 0.2880 - val_loss: 0.2873\n",
            "Epoch 143/200\n",
            "235/235 [==============================] - 3s 14ms/step - loss: 0.2879 - val_loss: 0.2887\n",
            "Epoch 144/200\n",
            "235/235 [==============================] - 3s 13ms/step - loss: 0.2879 - val_loss: 0.2883\n",
            "Epoch 145/200\n",
            "235/235 [==============================] - 3s 13ms/step - loss: 0.2879 - val_loss: 0.2879\n",
            "Epoch 146/200\n",
            "235/235 [==============================] - 3s 13ms/step - loss: 0.2878 - val_loss: 0.2877\n",
            "Epoch 147/200\n",
            "235/235 [==============================] - 3s 13ms/step - loss: 0.2878 - val_loss: 0.2881\n",
            "Epoch 148/200\n",
            "235/235 [==============================] - 3s 13ms/step - loss: 0.2878 - val_loss: 0.2876\n",
            "Epoch 149/200\n",
            "235/235 [==============================] - 3s 13ms/step - loss: 0.2878 - val_loss: 0.2876\n",
            "Epoch 150/200\n",
            "235/235 [==============================] - 3s 13ms/step - loss: 0.2878 - val_loss: 0.2879\n",
            "Epoch 151/200\n",
            "235/235 [==============================] - 3s 14ms/step - loss: 0.2877 - val_loss: 0.2876\n",
            "Epoch 152/200\n",
            "235/235 [==============================] - 3s 13ms/step - loss: 0.2877 - val_loss: 0.2875\n",
            "Epoch 153/200\n",
            "235/235 [==============================] - 3s 14ms/step - loss: 0.2877 - val_loss: 0.2879\n",
            "Epoch 154/200\n",
            "235/235 [==============================] - 3s 14ms/step - loss: 0.2877 - val_loss: 0.2876\n",
            "Epoch 155/200\n",
            "235/235 [==============================] - 3s 14ms/step - loss: 0.2877 - val_loss: 0.2873\n",
            "Epoch 156/200\n",
            "235/235 [==============================] - 3s 14ms/step - loss: 0.2877 - val_loss: 0.2872\n",
            "Epoch 157/200\n",
            "235/235 [==============================] - 3s 14ms/step - loss: 0.2876 - val_loss: 0.2882\n",
            "Epoch 158/200\n",
            "235/235 [==============================] - 3s 14ms/step - loss: 0.2876 - val_loss: 0.2881\n",
            "Epoch 159/200\n",
            "235/235 [==============================] - 3s 14ms/step - loss: 0.2876 - val_loss: 0.2875\n",
            "Epoch 160/200\n",
            "235/235 [==============================] - 3s 14ms/step - loss: 0.2876 - val_loss: 0.2882\n",
            "Epoch 161/200\n",
            "235/235 [==============================] - 3s 14ms/step - loss: 0.2876 - val_loss: 0.2870\n",
            "Epoch 162/200\n",
            "235/235 [==============================] - 3s 13ms/step - loss: 0.2875 - val_loss: 0.2879\n",
            "Epoch 163/200\n",
            "235/235 [==============================] - 3s 13ms/step - loss: 0.2875 - val_loss: 0.2883\n",
            "Epoch 164/200\n",
            "235/235 [==============================] - 3s 13ms/step - loss: 0.2875 - val_loss: 0.2870\n",
            "Epoch 165/200\n",
            "235/235 [==============================] - 3s 13ms/step - loss: 0.2875 - val_loss: 0.2873\n",
            "Epoch 166/200\n",
            "235/235 [==============================] - 3s 13ms/step - loss: 0.2875 - val_loss: 0.2873\n",
            "Epoch 167/200\n",
            "235/235 [==============================] - 3s 13ms/step - loss: 0.2875 - val_loss: 0.2883\n",
            "Epoch 168/200\n",
            "235/235 [==============================] - 3s 13ms/step - loss: 0.2875 - val_loss: 0.2875\n",
            "Epoch 169/200\n",
            "235/235 [==============================] - 3s 13ms/step - loss: 0.2875 - val_loss: 0.2876\n",
            "Epoch 170/200\n",
            "235/235 [==============================] - 3s 13ms/step - loss: 0.2874 - val_loss: 0.2877\n",
            "Epoch 171/200\n",
            "235/235 [==============================] - 3s 13ms/step - loss: 0.2874 - val_loss: 0.2874\n",
            "Epoch 172/200\n",
            "235/235 [==============================] - 3s 13ms/step - loss: 0.2874 - val_loss: 0.2873\n",
            "Epoch 173/200\n",
            "235/235 [==============================] - 3s 13ms/step - loss: 0.2874 - val_loss: 0.2881\n",
            "Epoch 174/200\n",
            "235/235 [==============================] - 3s 13ms/step - loss: 0.2874 - val_loss: 0.2866\n",
            "Epoch 175/200\n",
            "235/235 [==============================] - 3s 13ms/step - loss: 0.2873 - val_loss: 0.2870\n",
            "Epoch 176/200\n",
            "235/235 [==============================] - 3s 13ms/step - loss: 0.2874 - val_loss: 0.2875\n",
            "Epoch 177/200\n",
            "235/235 [==============================] - 3s 13ms/step - loss: 0.2874 - val_loss: 0.2876\n",
            "Epoch 178/200\n",
            "235/235 [==============================] - 3s 13ms/step - loss: 0.2873 - val_loss: 0.2872\n",
            "Epoch 179/200\n",
            "235/235 [==============================] - 3s 13ms/step - loss: 0.2873 - val_loss: 0.2871\n",
            "Epoch 180/200\n",
            "235/235 [==============================] - 3s 13ms/step - loss: 0.2873 - val_loss: 0.2869\n",
            "Epoch 181/200\n",
            "235/235 [==============================] - 3s 13ms/step - loss: 0.2873 - val_loss: 0.2877\n",
            "Epoch 182/200\n",
            "235/235 [==============================] - 3s 13ms/step - loss: 0.2873 - val_loss: 0.2870\n",
            "Epoch 183/200\n",
            "235/235 [==============================] - 3s 13ms/step - loss: 0.2873 - val_loss: 0.2881\n",
            "Epoch 184/200\n",
            "235/235 [==============================] - 3s 13ms/step - loss: 0.2873 - val_loss: 0.2873\n",
            "Epoch 185/200\n",
            "235/235 [==============================] - 3s 13ms/step - loss: 0.2873 - val_loss: 0.2871\n",
            "Epoch 186/200\n",
            "235/235 [==============================] - 3s 13ms/step - loss: 0.2872 - val_loss: 0.2880\n",
            "Epoch 187/200\n",
            "235/235 [==============================] - 3s 13ms/step - loss: 0.2872 - val_loss: 0.2883\n",
            "Epoch 188/200\n",
            "235/235 [==============================] - 3s 13ms/step - loss: 0.2872 - val_loss: 0.2867\n",
            "Epoch 189/200\n",
            "235/235 [==============================] - 3s 13ms/step - loss: 0.2872 - val_loss: 0.2876\n",
            "Epoch 190/200\n",
            "235/235 [==============================] - 3s 13ms/step - loss: 0.2872 - val_loss: 0.2879\n",
            "Epoch 191/200\n",
            "235/235 [==============================] - 3s 13ms/step - loss: 0.2872 - val_loss: 0.2878\n",
            "Epoch 192/200\n",
            "235/235 [==============================] - 3s 13ms/step - loss: 0.2872 - val_loss: 0.2873\n",
            "Epoch 193/200\n",
            "235/235 [==============================] - 3s 13ms/step - loss: 0.2872 - val_loss: 0.2873\n",
            "Epoch 194/200\n",
            "235/235 [==============================] - 3s 13ms/step - loss: 0.2872 - val_loss: 0.2875\n",
            "Epoch 195/200\n",
            "235/235 [==============================] - 3s 13ms/step - loss: 0.2872 - val_loss: 0.2880\n",
            "Epoch 196/200\n",
            "235/235 [==============================] - 3s 13ms/step - loss: 0.2871 - val_loss: 0.2872\n",
            "Epoch 197/200\n",
            "235/235 [==============================] - 3s 13ms/step - loss: 0.2871 - val_loss: 0.2877\n",
            "Epoch 198/200\n",
            "235/235 [==============================] - 3s 13ms/step - loss: 0.2871 - val_loss: 0.2880\n",
            "Epoch 199/200\n",
            "235/235 [==============================] - 3s 13ms/step - loss: 0.2871 - val_loss: 0.2878\n",
            "Epoch 200/200\n",
            "235/235 [==============================] - 3s 13ms/step - loss: 0.2871 - val_loss: 0.2875\n"
          ],
          "name": "stdout"
        }
      ]
    },
    {
      "cell_type": "markdown",
      "metadata": {
        "id": "_x9Z5hfWrnW9"
      },
      "source": [
        "## **Modelin Değerlendirilmesi**"
      ]
    },
    {
      "cell_type": "code",
      "metadata": {
        "id": "y1XxJIchrvSU",
        "outputId": "8a4981f5-55cb-4a84-eb8a-dd995869b06f",
        "colab": {
          "base_uri": "https://localhost:8080/",
          "height": 282
        }
      },
      "source": [
        "print(hist.history.keys())\n",
        "\n",
        "plt.plot(hist.history[\"loss\"],label=\"Train Loss\")\n",
        "plt.plot(hist.history[\"val_loss\"],label=\"Validation Loss\")\n",
        "plt.legend()\n",
        "plt.show()"
      ],
      "execution_count": 13,
      "outputs": [
        {
          "output_type": "stream",
          "text": [
            "dict_keys(['loss', 'val_loss'])\n"
          ],
          "name": "stdout"
        },
        {
          "output_type": "display_data",
          "data": {
            "image/png": "[encoded data removed]",
            "text/plain": [
              "<Figure size 432x288 with 1 Axes>"
            ]
          },
          "metadata": {
            "tags": [],
            "needs_background": "light"
          }
        }
      ]
    },
    {
      "cell_type": "code",
      "metadata": {
        "id": "_-IQQRwYsOOl",
        "outputId": "8fae70bf-135e-4cf5-f49a-0495420f299d",
        "colab": {
          "base_uri": "https://localhost:8080/",
          "height": 248
        }
      },
      "source": [
        "encoder = Model(input_img,encoded)\n",
        "encoded_img = encoder.predict(x_test)\n",
        "\n",
        "# Original image\n",
        "plt.imshow(x_test[1500].reshape(28,28))\n",
        "plt.axis(\"off\")\n",
        "plt.show()"
      ],
      "execution_count": 14,
      "outputs": [
        {
          "output_type": "display_data",
          "data": {
            "image/png": "[encoded data removed]",
            "text/plain": [
              "<Figure size 432x288 with 1 Axes>"
            ]
          },
          "metadata": {
            "tags": [],
            "needs_background": "light"
          }
        }
      ]
    },
    {
      "cell_type": "code",
      "metadata": {
        "id": "UrsJbENAucjF",
        "outputId": "c231c675-4233-446a-b7cb-69c90e2410fb",
        "colab": {
          "base_uri": "https://localhost:8080/",
          "height": 248
        }
      },
      "source": [
        "# The image generated by Autoencoder model\n",
        "plt.imshow(encoded_img[1500].reshape(4,4))\n",
        "plt.axis(\"off\")\n",
        "plt.show()"
      ],
      "execution_count": 15,
      "outputs": [
        {
          "output_type": "display_data",
          "data": {
            "image/png": "[encoded data removed]",
            "text/plain": [
              "<Figure size 432x288 with 1 Axes>"
            ]
          },
          "metadata": {
            "tags": [],
            "needs_background": "light"
          }
        }
      ]
    },
    {
      "cell_type": "code",
      "metadata": {
        "id": "wCQ81V8Ou222",
        "outputId": "86eac0c8-66a8-4813-c375-c7e7bf3994d8",
        "colab": {
          "base_uri": "https://localhost:8080/",
          "height": 248
        }
      },
      "source": [
        "decoded_imgs = autoencoder.predict(x_test)\n",
        "\n",
        "n = 10  # How many digits we will display\n",
        "plt.figure(figsize=(20, 4))\n",
        "for i in range(n):\n",
        "    # Display original\n",
        "    ax = plt.subplot(2, n, i + 1)\n",
        "    plt.imshow(x_test[i].reshape(28, 28))\n",
        "    plt.gray()\n",
        "    ax.get_xaxis().set_visible(False)\n",
        "    ax.get_yaxis().set_visible(False)\n",
        "\n",
        "    # Display reconstruction\n",
        "    ax = plt.subplot(2, n, i + 1 + n)\n",
        "    plt.imshow(decoded_imgs[i].reshape(28, 28))\n",
        "    plt.gray()\n",
        "    ax.get_xaxis().set_visible(False)\n",
        "    ax.get_yaxis().set_visible(False)\n",
        "plt.show()"
      ],
      "execution_count": 16,
      "outputs": [
        {
          "output_type": "display_data",
          "data": {
            "image/png": "[encoded data removed]",
            "text/plain": [
              "<Figure size 1440x288 with 20 Axes>"
            ]
          },
          "metadata": {
            "tags": [],
            "needs_background": "light"
          }
        }
      ]
    }
  ]
}