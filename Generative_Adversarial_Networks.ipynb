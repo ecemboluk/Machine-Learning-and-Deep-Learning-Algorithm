{
  "nbformat": 4,
  "nbformat_minor": 0,
  "metadata": {
    "colab": {
      "name": "Generative Adversarial Networks.ipynb",
      "provenance": [],
      "authorship_tag": "ABX9TyNWfyuppo10wA9GTzSuHmYZ",
      "include_colab_link": true
    },
    "kernelspec": {
      "name": "python3",
      "display_name": "Python 3"
    }
  },
  "cells": [
    {
      "cell_type": "markdown",
      "metadata": {
        "id": "view-in-github",
        "colab_type": "text"
      },
      "source": [
        "<a href=\"https://colab.research.google.com/github/ecemboluk/Machine-Learning-and-Deep-Learning-Worksheets/blob/master/Generative_Adversarial_Networks.ipynb\" target=\"_parent\"><img src=\"https://colab.research.google.com/assets/colab-badge.svg\" alt=\"Open In Colab\"/></a>"
      ]
    },
    {
      "cell_type": "markdown",
      "metadata": {
        "id": "vfEfdzLQarzm"
      },
      "source": [
        "# Generative Adversarial Networks\n",
        "\n",
        "Üretici Çekişmeli Ağlar olarak Türkçe'ye çevirebileceğimiz GANs'lar sentetik veri üretiminde en çok kullanılan derin öğrenme algoritmaları arasında yer almaktadır. \n",
        "\n",
        "### Peki Neden Sentetik Veri Üretme İhtiyacı Hissediyoruz?\n",
        "\n",
        "Veri toplama ve hazırlama süreci oldukça uzun ve zorlu bir süreçtir. Bu süreci kolaylaştırmak amacıyla genelde veri arttırma yöntemlerine başvurulur. Özellikle derin öğrenme yöntemleri ne kadar çok veri ile beslenirse, o kadar çok öğrenim başarısı artmaktadır. \n",
        "\n",
        "Yapay zeka çalışmaları arasında ilk sıralarda yer alan sentetik veri üretimi bugün çok başarılı veriler üretebiliyor. Veri üretmek resim veri setlerinin yanı sıra, görsel ve işitsel veri setlerini de başarılı bir şekilde üretebiliyor. Gelin hep birlikte bu GANs algoritmasının derinliklerine inelim.\n",
        "\n",
        "## GANs Nasıl Çalışır?\n",
        "\n",
        "GANs, eğitim veri seti içerisinden bulunan verilerle aynı istatistik özelliklere sahip verileri üretmeyi öğrenen bir derin öğrenme algoritmasıdır. Ian Goodfellow ile derin öğrenme dünyasını sarsan GAN yaklaşımı istatistiksel anlamda gerçeğinden ayırt edilemeyen sentetik verilerin üretilmesinin önünü açıyor. Çalışma yapısında başlangıçta kötü bir taklitçi gibi düşünülebilir. Taklit yeteneği giderek gelişir ve gerçeğinden ayırt edilemeyen fakat aynısı olmayan yeni çıktılar üretilmektedir.\n",
        "\n",
        "Aşağıda GANs algortimasının çalışmasını daha iyi bir şekilde inceleyebilirsiniz.\n",
        "\n",
        "\n",
        "<img src=\"https://miro.medium.com/max/1800/1*TKr1dtcNgJCA8uYY1OhmSg.png\"/>\n",
        "\n",
        "GANs algoritmaları iki farklı ağdan oluşur: Generator (Üretici) ve Discriminator(Ayırt Edici) \n",
        "\n",
        "**Generator (Üretici) Ağlar**, aldığı rastgele gürültü (random noise) ile veri üretimini sağlayan ağdır. Ürettiği veriyi ayırt edici ağa gönderir ve onun kararı sonucu aldığı loss (yitim) fonksiyonu ile öğrenme işlemini tamamlayarak daha iyi veriler üretir.\n",
        "\n",
        "**Discriminator (Ayırt Edici) Ağlar**, eğitim veri seti ile üretilen verileri alarak karşılaştırır ve hangi verinin gerçek hangi veririnin sahte olduğuna karar verir. \n",
        "\n",
        "Şimdi MNIST veri seti ile bu konuyu biraz pekiştirelim. \n",
        "\n",
        " \n",
        "\n",
        "\n"
      ]
    },
    {
      "cell_type": "markdown",
      "metadata": {
        "id": "98m5bXcpsios"
      },
      "source": [
        "## Kütüphane Kurulumu"
      ]
    },
    {
      "cell_type": "code",
      "metadata": {
        "id": "N4KArSUasf3s"
      },
      "source": [
        "import numpy as np\n",
        "import matplotlib.pyplot as plt\n",
        "from keras.layers import Dense, Dropout, Input, ReLU\n",
        "from keras.models import Model, Sequential\n",
        "from keras.optimizers import Adam\n",
        "from keras.datasets import mnist"
      ],
      "execution_count": 18,
      "outputs": []
    },
    {
      "cell_type": "markdown",
      "metadata": {
        "id": "5OsE5cnytToT"
      },
      "source": [
        "## Veri Setinin Yüklenmesi ve Hazırlanması"
      ]
    },
    {
      "cell_type": "code",
      "metadata": {
        "id": "T11svRfCtkFj",
        "outputId": "9d876da4-906e-48cc-ab74-9e836828b5fe",
        "colab": {
          "base_uri": "https://localhost:8080/"
        }
      },
      "source": [
        "(x_train, y_train), (x_test, y_test) = mnist.load_data()\n",
        "x_train = (x_train.astype(np.float32)-127.5) / 127.5\n",
        "\n",
        "print(\"X Train shape\", x_train.shape)\n",
        "print(\"X Test shape\", x_test.shape)\n",
        "\n",
        "x_train = x_train.reshape(x_train.shape[0],x_train.shape[1]*x_train.shape[2])\n",
        "#x_test = x_test.reshape(x_test.shape[0],x_test.shape[1]*x_test.shape[2])\n",
        "print(\"X Train shape\", x_train.shape)\n",
        "#print(\"X Test shape\", x_test.shape)"
      ],
      "execution_count": 46,
      "outputs": [
        {
          "output_type": "stream",
          "text": [
            "X Train shape (60000, 28, 28)\n",
            "X Test shape (10000, 28, 28)\n",
            "X Train shape (60000, 784)\n"
          ],
          "name": "stdout"
        }
      ]
    },
    {
      "cell_type": "markdown",
      "metadata": {
        "id": "BAOroWuqvlCh"
      },
      "source": [
        "## Verinin Görselleştirilmesi"
      ]
    },
    {
      "cell_type": "code",
      "metadata": {
        "id": "mwl2olL-vpPN",
        "outputId": "2743e45b-6e37-41bf-99d7-cffd44ebbc50",
        "colab": {
          "base_uri": "https://localhost:8080/",
          "height": 282
        }
      },
      "source": [
        "plt.imshow(x_test[1])"
      ],
      "execution_count": 47,
      "outputs": [
        {
          "output_type": "execute_result",
          "data": {
            "text/plain": [
              "<matplotlib.image.AxesImage at 0x7f7ad8540da0>"
            ]
          },
          "metadata": {
            "tags": []
          },
          "execution_count": 47
        },
        {
          "output_type": "display_data",
          "data": {
            "image/png": "[encoded data removed]",
            "text/plain": [
              "<Figure size 432x288 with 1 Axes>"
            ]
          },
          "metadata": {
            "tags": [],
            "needs_background": "light"
          }
        }
      ]
    },
    {
      "cell_type": "markdown",
      "metadata": {
        "id": "zpoVjI6JwBao"
      },
      "source": [
        "## Generator (Üretici) Ağın Oluşturulması "
      ]
    },
    {
      "cell_type": "code",
      "metadata": {
        "id": "oLbm4kqIwFAN"
      },
      "source": [
        "def generator():\n",
        "\n",
        "  generator = Sequential()\n",
        "  generator.add(Dense(units = 512, input_dim = 100))\n",
        "  generator.add(ReLU())\n",
        "\n",
        "  generator.add(Dense(units = 512))\n",
        "  generator.add(ReLU())\n",
        "\n",
        "  generator.add(Dense(units = 1024))\n",
        "  generator.add(ReLU())\n",
        "\n",
        "  generator.add(Dense(units = 784, activation = \"tanh\"))\n",
        "\n",
        "  generator.compile(loss = \"binary_crossentropy\", \n",
        "                    optimizer = Adam(lr = 0.0001, beta_1 = 0.5))\n",
        "  \n",
        "  return generator"
      ],
      "execution_count": 48,
      "outputs": []
    },
    {
      "cell_type": "code",
      "metadata": {
        "id": "qCCUb7efyKf5",
        "outputId": "d19aa946-c4d4-4862-9fe4-1133653e86e9",
        "colab": {
          "base_uri": "https://localhost:8080/"
        }
      },
      "source": [
        "generator = generator()\n",
        "generator.summary()"
      ],
      "execution_count": 49,
      "outputs": [
        {
          "output_type": "stream",
          "text": [
            "Model: \"sequential_4\"\n",
            "_________________________________________________________________\n",
            "Layer (type)                 Output Shape              Param #   \n",
            "=================================================================\n",
            "dense_13 (Dense)             (None, 512)               51712     \n",
            "_________________________________________________________________\n",
            "re_lu_9 (ReLU)               (None, 512)               0         \n",
            "_________________________________________________________________\n",
            "dense_14 (Dense)             (None, 512)               262656    \n",
            "_________________________________________________________________\n",
            "re_lu_10 (ReLU)              (None, 512)               0         \n",
            "_________________________________________________________________\n",
            "dense_15 (Dense)             (None, 1024)              525312    \n",
            "_________________________________________________________________\n",
            "re_lu_11 (ReLU)              (None, 1024)              0         \n",
            "_________________________________________________________________\n",
            "dense_16 (Dense)             (None, 784)               803600    \n",
            "=================================================================\n",
            "Total params: 1,643,280\n",
            "Trainable params: 1,643,280\n",
            "Non-trainable params: 0\n",
            "_________________________________________________________________\n"
          ],
          "name": "stdout"
        }
      ]
    },
    {
      "cell_type": "markdown",
      "metadata": {
        "id": "j1E2JcSYyoV6"
      },
      "source": [
        "## Discriminator (Ayırt Edici) Ağ Oluşturulması"
      ]
    },
    {
      "cell_type": "code",
      "metadata": {
        "id": "DMwtT7YfytdX"
      },
      "source": [
        "def discriminator():\n",
        "\n",
        "  discriminator =  Sequential()\n",
        "  discriminator.add(Dense(units = 1024, input_dim = 784))\n",
        "  discriminator.add(ReLU())\n",
        "  discriminator.add(Dropout(0.4))\n",
        "\n",
        "  discriminator.add(Dense(units = 512))\n",
        "  discriminator.add(ReLU())\n",
        "  discriminator.add(Dropout(0.4))\n",
        "\n",
        "  discriminator.add(Dense(units = 256))\n",
        "  discriminator.add(ReLU())\n",
        "\n",
        "  discriminator.add(Dense(units = 1, activation = \"sigmoid\"))\n",
        "  discriminator.compile(loss = \"binary_crossentropy\", \n",
        "                        optimizer = Adam(lr = 0.0001, beta_1 = 0.5))\n",
        "  \n",
        "  return discriminator"
      ],
      "execution_count": 50,
      "outputs": []
    },
    {
      "cell_type": "code",
      "metadata": {
        "id": "Laf-sodh06hz",
        "outputId": "00721484-510b-4791-9f5c-9c51ea00cb4f",
        "colab": {
          "base_uri": "https://localhost:8080/"
        }
      },
      "source": [
        "discriminator = discriminator()\n",
        "discriminator.summary()"
      ],
      "execution_count": 51,
      "outputs": [
        {
          "output_type": "stream",
          "text": [
            "Model: \"sequential_5\"\n",
            "_________________________________________________________________\n",
            "Layer (type)                 Output Shape              Param #   \n",
            "=================================================================\n",
            "dense_17 (Dense)             (None, 1024)              803840    \n",
            "_________________________________________________________________\n",
            "re_lu_12 (ReLU)              (None, 1024)              0         \n",
            "_________________________________________________________________\n",
            "dropout_2 (Dropout)          (None, 1024)              0         \n",
            "_________________________________________________________________\n",
            "dense_18 (Dense)             (None, 512)               524800    \n",
            "_________________________________________________________________\n",
            "re_lu_13 (ReLU)              (None, 512)               0         \n",
            "_________________________________________________________________\n",
            "dropout_3 (Dropout)          (None, 512)               0         \n",
            "_________________________________________________________________\n",
            "dense_19 (Dense)             (None, 256)               131328    \n",
            "_________________________________________________________________\n",
            "re_lu_14 (ReLU)              (None, 256)               0         \n",
            "_________________________________________________________________\n",
            "dense_20 (Dense)             (None, 1)                 257       \n",
            "=================================================================\n",
            "Total params: 1,460,225\n",
            "Trainable params: 1,460,225\n",
            "Non-trainable params: 0\n",
            "_________________________________________________________________\n"
          ],
          "name": "stdout"
        }
      ]
    },
    {
      "cell_type": "markdown",
      "metadata": {
        "id": "mBDCjGaW1iHR"
      },
      "source": [
        "## GANs Modelinin Oluşturulması"
      ]
    },
    {
      "cell_type": "code",
      "metadata": {
        "id": "OKGGnDga1mS8"
      },
      "source": [
        "def gans(generator,discriminator):\n",
        "  discriminator.trainable = False\n",
        "  gan_input = Input(shape = (100,))\n",
        "  x = generator(gan_input)\n",
        "  gan_output = discriminator(x)\n",
        "  gan = Model(inputs = gan_input, outputs = gan_output)\n",
        "  gan.compile(loss = \"binary_crossentropy\", optimizer = \"adam\")\n",
        "  return gan"
      ],
      "execution_count": 52,
      "outputs": []
    },
    {
      "cell_type": "code",
      "metadata": {
        "id": "bpTdc1ZX2uqW",
        "outputId": "3ade191b-f427-4231-e9ec-96ede0ec7b8d",
        "colab": {
          "base_uri": "https://localhost:8080/"
        }
      },
      "source": [
        "gans = gans(generator,discriminator)\n",
        "gans.summary()"
      ],
      "execution_count": 53,
      "outputs": [
        {
          "output_type": "stream",
          "text": [
            "Model: \"functional_5\"\n",
            "_________________________________________________________________\n",
            "Layer (type)                 Output Shape              Param #   \n",
            "=================================================================\n",
            "input_3 (InputLayer)         [(None, 100)]             0         \n",
            "_________________________________________________________________\n",
            "sequential_4 (Sequential)    (None, 784)               1643280   \n",
            "_________________________________________________________________\n",
            "sequential_5 (Sequential)    (None, 1)                 1460225   \n",
            "=================================================================\n",
            "Total params: 3,103,505\n",
            "Trainable params: 1,643,280\n",
            "Non-trainable params: 1,460,225\n",
            "_________________________________________________________________\n"
          ],
          "name": "stdout"
        }
      ]
    },
    {
      "cell_type": "markdown",
      "metadata": {
        "id": "a1L0DE363Pt3"
      },
      "source": [
        "## GANs Modelinin Eğitilmesi"
      ]
    },
    {
      "cell_type": "code",
      "metadata": {
        "id": "XwPZZekI3S_s",
        "outputId": "90474020-8247-41c1-b352-bc33b9043a54",
        "colab": {
          "base_uri": "https://localhost:8080/"
        }
      },
      "source": [
        "epoch = 50\n",
        "batch_size = 256\n",
        "\n",
        "for e in range(epoch):\n",
        "  for _ in range(batch_size):\n",
        "    noise = np.random.normal(0,1,[batch_size,100])\n",
        "   \n",
        "    generated_image = generator.predict(noise)\n",
        "    image_batch = x_train[np.random.randint(low = 0, high = x_train.shape[0], size = batch_size)]\n",
        "   \n",
        "    x = np.concatenate([image_batch,generated_image])\n",
        "   \n",
        "    y_dis = np.zeros(batch_size*2)\n",
        "    y_dis[:batch_size] = 1\n",
        "\n",
        "    discriminator.trainable = True\n",
        "    discriminator.train_on_batch(x,y_dis)\n",
        "\n",
        "    noise = np.random.normal(0,1,[batch_size,100])\n",
        "    y_gen = np.ones(batch_size)\n",
        "\n",
        "    discriminator.trainable = False\n",
        "\n",
        "    gans.train_on_batch(noise,y_gen)\n",
        "\n",
        "  print(\"epoch: \",e)\n",
        "\n",
        "#gans.save_weights(\"gans_model.h5\")"
      ],
      "execution_count": 56,
      "outputs": [
        {
          "output_type": "stream",
          "text": [
            "epoch:  0\n",
            "epoch:  1\n",
            "epoch:  2\n",
            "epoch:  3\n",
            "epoch:  4\n",
            "epoch:  5\n",
            "epoch:  6\n",
            "epoch:  7\n",
            "epoch:  8\n",
            "epoch:  9\n",
            "epoch:  10\n",
            "epoch:  11\n",
            "epoch:  12\n",
            "epoch:  13\n",
            "epoch:  14\n",
            "epoch:  15\n",
            "epoch:  16\n",
            "epoch:  17\n",
            "epoch:  18\n",
            "epoch:  19\n",
            "epoch:  20\n",
            "epoch:  21\n",
            "epoch:  22\n",
            "epoch:  23\n",
            "epoch:  24\n",
            "epoch:  25\n",
            "epoch:  26\n",
            "epoch:  27\n",
            "epoch:  28\n",
            "epoch:  29\n",
            "epoch:  30\n",
            "epoch:  31\n",
            "epoch:  32\n",
            "epoch:  33\n",
            "epoch:  34\n",
            "epoch:  35\n",
            "epoch:  36\n",
            "epoch:  37\n",
            "epoch:  38\n",
            "epoch:  39\n",
            "epoch:  40\n",
            "epoch:  41\n",
            "epoch:  42\n",
            "epoch:  43\n",
            "epoch:  44\n",
            "epoch:  45\n",
            "epoch:  46\n",
            "epoch:  47\n",
            "epoch:  48\n",
            "epoch:  49\n"
          ],
          "name": "stdout"
        }
      ]
    },
    {
      "cell_type": "code",
      "metadata": {
        "id": "wgTwnAduChZT",
        "outputId": "682db567-f3e6-46c2-e129-ee7e46d77f4a",
        "colab": {
          "base_uri": "https://localhost:8080/",
          "height": 248
        }
      },
      "source": [
        "noise = np.random.normal(loc = 0, scale = 1, size = [100,100])\n",
        "generated_images = generator.predict(noise)\n",
        "generated_images = generated_images.reshape(100,28,28)\n",
        "plt.imshow(generated_images[1], interpolation = \"nearest\")\n",
        "plt.axis('off')\n",
        "plt.show()"
      ],
      "execution_count": 57,
      "outputs": [
        {
          "output_type": "display_data",
          "data": {
            "image/png": "[encoded data removed]",
            "text/plain": [
              "<Figure size 432x288 with 1 Axes>"
            ]
          },
          "metadata": {
            "tags": [],
            "needs_background": "light"
          }
        }
      ]
    }
  ]
}